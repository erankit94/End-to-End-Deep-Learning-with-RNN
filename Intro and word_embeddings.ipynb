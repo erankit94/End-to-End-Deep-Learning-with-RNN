{
 "cells": [
  {
   "cell_type": "code",
   "execution_count": 1,
   "id": "42c37fa6",
   "metadata": {},
   "outputs": [],
   "source": [
    "# IMDB DATASET\n",
    "# Movie review dataset\n",
    "\n",
    "# Implement in Google Colab"
   ]
  },
  {
   "cell_type": "code",
   "execution_count": 2,
   "id": "d0d21056",
   "metadata": {},
   "outputs": [],
   "source": [
    "# Dataset -> Feature Engg -> Simple RNN -> Streamlit web app -> Deployment\n",
    "\n",
    "# Simple RNN: Embedding layer and Simple RNN architecture\n",
    "# Embedding layer (uses word embeddings) for converting words to vectors \n",
    "# word2vec is a kind of word embedding techniques"
   ]
  },
  {
   "cell_type": "markdown",
   "id": "9afed0ca",
   "metadata": {},
   "source": [
    "Word embeddings"
   ]
  },
  {
   "cell_type": "code",
   "execution_count": 3,
   "id": "7eee747e",
   "metadata": {},
   "outputs": [],
   "source": [
    "# word embeddings -> Feature representation"
   ]
  },
  {
   "cell_type": "code",
   "execution_count": 4,
   "id": "0f90b82e",
   "metadata": {},
   "outputs": [],
   "source": [
    "# OHE\n",
    "# One hot representation\n",
    "# for ex.: A vocabolary has 10k words, then word \"Man\" will be converted to vector of (10000,1)\n",
    "# And every value is zero, only value with \"Man\" will have a value of 1\n",
    "# Sparse matrix --> Overfitting"
   ]
  },
  {
   "cell_type": "markdown",
   "id": "225bb6ff",
   "metadata": {},
   "source": [
    "Word embeddings"
   ]
  },
  {
   "cell_type": "code",
   "execution_count": 5,
   "id": "2998a3f3",
   "metadata": {},
   "outputs": [],
   "source": [
    "# Word embeddings\n",
    "# vocab size in corpus = 10000\n",
    "# feature dim in word2vec = 300"
   ]
  },
  {
   "cell_type": "code",
   "execution_count": 6,
   "id": "6efdb014",
   "metadata": {},
   "outputs": [],
   "source": [
    "from tensorflow import keras"
   ]
  },
  {
   "cell_type": "code",
   "execution_count": 7,
   "id": "333ad0be",
   "metadata": {},
   "outputs": [],
   "source": [
    "from tensorflow.keras.preprocessing.text import one_hot"
   ]
  },
  {
   "cell_type": "code",
   "execution_count": 8,
   "id": "9f8b4905",
   "metadata": {},
   "outputs": [],
   "source": [
    "### sentences\n",
    "sent=[  'the glass of milk',\n",
    "     'the glass of juice',\n",
    "     'the cup of tea',\n",
    "    'I am a good boy',\n",
    "     'I am a good developer',\n",
    "     'understand the meaning of words',\n",
    "     'your videos are good',]"
   ]
  },
  {
   "cell_type": "code",
   "execution_count": 9,
   "id": "e39c5f7b",
   "metadata": {},
   "outputs": [
    {
     "data": {
      "text/plain": [
       "[[522, 1597, 5453, 1077],\n",
       " [522, 1597, 5453, 5274],\n",
       " [522, 8560, 5453, 4088],\n",
       " [831, 822, 378, 9451, 6599],\n",
       " [831, 822, 378, 9451, 3575],\n",
       " [7998, 522, 2098, 5453, 451],\n",
       " [937, 2521, 272, 9451]]"
      ]
     },
     "execution_count": 9,
     "metadata": {},
     "output_type": "execute_result"
    }
   ],
   "source": [
    "# define vocab size\n",
    "voc_size=10000\n",
    "\n",
    "# One hot representaiton for every word\n",
    "one_hot_repr = [one_hot(words, voc_size) for words in sent]\n",
    "one_hot_repr"
   ]
  },
  {
   "cell_type": "code",
   "execution_count": 11,
   "id": "2a86c4e2",
   "metadata": {},
   "outputs": [],
   "source": [
    "# word embedding representation\n",
    "from tensorflow.keras.layers import Embedding\n",
    "# from tensorflow.keras.preprocessing.sequence import pad_sequences\n",
    "from tensorflow.keras.utils import pad_sequences\n",
    "from tensorflow.keras.models import Sequential\n",
    "import numpy as np"
   ]
  },
  {
   "cell_type": "code",
   "execution_count": 12,
   "id": "7c0aec1d",
   "metadata": {},
   "outputs": [],
   "source": [
    "# For RNN, we need to make all sentences of equal sizes\n",
    "# Otherwise we won't be able to train these is RNN\n",
    "# bcz all the words will be going in fixed no. of time stamps based on the sentence size\n",
    "# thats why we imported pad_sequences"
   ]
  },
  {
   "cell_type": "code",
   "execution_count": 13,
   "id": "9c9df6fa",
   "metadata": {},
   "outputs": [
    {
     "name": "stdout",
     "output_type": "stream",
     "text": [
      "[[   0    0    0    0  522 1597 5453 1077]\n",
      " [   0    0    0    0  522 1597 5453 5274]\n",
      " [   0    0    0    0  522 8560 5453 4088]\n",
      " [   0    0    0  831  822  378 9451 6599]\n",
      " [   0    0    0  831  822  378 9451 3575]\n",
      " [   0    0    0 7998  522 2098 5453  451]\n",
      " [   0    0    0    0  937 2521  272 9451]]\n"
     ]
    }
   ],
   "source": [
    "sent_length = 8 # max length + some buffer\n",
    "embedded_docs = pad_sequences(one_hot_repr, padding='pre', maxlen=sent_length)\n",
    "print(embedded_docs)"
   ]
  },
  {
   "cell_type": "code",
   "execution_count": 14,
   "id": "ba92a7e1",
   "metadata": {},
   "outputs": [],
   "source": [
    "# feature representation\n",
    "dim=10"
   ]
  },
  {
   "cell_type": "code",
   "execution_count": 15,
   "id": "cefddeba",
   "metadata": {},
   "outputs": [
    {
     "name": "stderr",
     "output_type": "stream",
     "text": [
      "d:\\Python\\GenAI\\venv\\Lib\\site-packages\\keras\\src\\layers\\core\\embedding.py:90: UserWarning: Argument `input_length` is deprecated. Just remove it.\n",
      "  warnings.warn(\n"
     ]
    }
   ],
   "source": [
    "# create model (create embedding layer)\n",
    "model = Sequential()\n",
    "model.add(Embedding(input_dim=voc_size,output_dim=dim,input_length=sent_length))\n",
    "model.compile('adam', 'mse')"
   ]
  },
  {
   "cell_type": "code",
   "execution_count": 26,
   "id": "c32a6189",
   "metadata": {},
   "outputs": [
    {
     "data": {
      "text/html": [
       "<pre style=\"white-space:pre;overflow-x:auto;line-height:normal;font-family:Menlo,'DejaVu Sans Mono',consolas,'Courier New',monospace\"><span style=\"font-weight: bold\">Model: \"sequential\"</span>\n",
       "</pre>\n"
      ],
      "text/plain": [
       "\u001b[1mModel: \"sequential\"\u001b[0m\n"
      ]
     },
     "metadata": {},
     "output_type": "display_data"
    },
    {
     "data": {
      "text/html": [
       "<pre style=\"white-space:pre;overflow-x:auto;line-height:normal;font-family:Menlo,'DejaVu Sans Mono',consolas,'Courier New',monospace\">┏━━━━━━━━━━━━━━━━━━━━━━━━━━━━━━━━━┳━━━━━━━━━━━━━━━━━━━━━━━━┳━━━━━━━━━━━━━━━┓\n",
       "┃<span style=\"font-weight: bold\"> Layer (type)                    </span>┃<span style=\"font-weight: bold\"> Output Shape           </span>┃<span style=\"font-weight: bold\">       Param # </span>┃\n",
       "┡━━━━━━━━━━━━━━━━━━━━━━━━━━━━━━━━━╇━━━━━━━━━━━━━━━━━━━━━━━━╇━━━━━━━━━━━━━━━┩\n",
       "│ embedding (<span style=\"color: #0087ff; text-decoration-color: #0087ff\">Embedding</span>)           │ (<span style=\"color: #00af00; text-decoration-color: #00af00\">7</span>, <span style=\"color: #00af00; text-decoration-color: #00af00\">8</span>, <span style=\"color: #00af00; text-decoration-color: #00af00\">10</span>)             │       <span style=\"color: #00af00; text-decoration-color: #00af00\">100,000</span> │\n",
       "└─────────────────────────────────┴────────────────────────┴───────────────┘\n",
       "</pre>\n"
      ],
      "text/plain": [
       "┏━━━━━━━━━━━━━━━━━━━━━━━━━━━━━━━━━┳━━━━━━━━━━━━━━━━━━━━━━━━┳━━━━━━━━━━━━━━━┓\n",
       "┃\u001b[1m \u001b[0m\u001b[1mLayer (type)                   \u001b[0m\u001b[1m \u001b[0m┃\u001b[1m \u001b[0m\u001b[1mOutput Shape          \u001b[0m\u001b[1m \u001b[0m┃\u001b[1m \u001b[0m\u001b[1m      Param #\u001b[0m\u001b[1m \u001b[0m┃\n",
       "┡━━━━━━━━━━━━━━━━━━━━━━━━━━━━━━━━━╇━━━━━━━━━━━━━━━━━━━━━━━━╇━━━━━━━━━━━━━━━┩\n",
       "│ embedding (\u001b[38;5;33mEmbedding\u001b[0m)           │ (\u001b[38;5;34m7\u001b[0m, \u001b[38;5;34m8\u001b[0m, \u001b[38;5;34m10\u001b[0m)             │       \u001b[38;5;34m100,000\u001b[0m │\n",
       "└─────────────────────────────────┴────────────────────────┴───────────────┘\n"
      ]
     },
     "metadata": {},
     "output_type": "display_data"
    },
    {
     "data": {
      "text/html": [
       "<pre style=\"white-space:pre;overflow-x:auto;line-height:normal;font-family:Menlo,'DejaVu Sans Mono',consolas,'Courier New',monospace\"><span style=\"font-weight: bold\"> Total params: </span><span style=\"color: #00af00; text-decoration-color: #00af00\">100,000</span> (390.62 KB)\n",
       "</pre>\n"
      ],
      "text/plain": [
       "\u001b[1m Total params: \u001b[0m\u001b[38;5;34m100,000\u001b[0m (390.62 KB)\n"
      ]
     },
     "metadata": {},
     "output_type": "display_data"
    },
    {
     "data": {
      "text/html": [
       "<pre style=\"white-space:pre;overflow-x:auto;line-height:normal;font-family:Menlo,'DejaVu Sans Mono',consolas,'Courier New',monospace\"><span style=\"font-weight: bold\"> Trainable params: </span><span style=\"color: #00af00; text-decoration-color: #00af00\">100,000</span> (390.62 KB)\n",
       "</pre>\n"
      ],
      "text/plain": [
       "\u001b[1m Trainable params: \u001b[0m\u001b[38;5;34m100,000\u001b[0m (390.62 KB)\n"
      ]
     },
     "metadata": {},
     "output_type": "display_data"
    },
    {
     "data": {
      "text/html": [
       "<pre style=\"white-space:pre;overflow-x:auto;line-height:normal;font-family:Menlo,'DejaVu Sans Mono',consolas,'Courier New',monospace\"><span style=\"font-weight: bold\"> Non-trainable params: </span><span style=\"color: #00af00; text-decoration-color: #00af00\">0</span> (0.00 B)\n",
       "</pre>\n"
      ],
      "text/plain": [
       "\u001b[1m Non-trainable params: \u001b[0m\u001b[38;5;34m0\u001b[0m (0.00 B)\n"
      ]
     },
     "metadata": {},
     "output_type": "display_data"
    }
   ],
   "source": [
    "model.summary()"
   ]
  },
  {
   "cell_type": "code",
   "execution_count": 17,
   "id": "20ae462c",
   "metadata": {},
   "outputs": [
    {
     "name": "stdout",
     "output_type": "stream",
     "text": [
      "\u001b[1m1/1\u001b[0m \u001b[32m━━━━━━━━━━━━━━━━━━━━\u001b[0m\u001b[37m\u001b[0m \u001b[1m6s\u001b[0m 6s/step\n"
     ]
    },
    {
     "data": {
      "text/plain": [
       "array([[[-4.90057357e-02, -4.63413373e-02, -4.11916003e-02,\n",
       "          2.12304294e-05,  3.87272574e-02, -4.88477610e-02,\n",
       "         -3.97264138e-02,  1.42695419e-02,  1.25419609e-02,\n",
       "         -3.01628001e-02],\n",
       "        [-4.90057357e-02, -4.63413373e-02, -4.11916003e-02,\n",
       "          2.12304294e-05,  3.87272574e-02, -4.88477610e-02,\n",
       "         -3.97264138e-02,  1.42695419e-02,  1.25419609e-02,\n",
       "         -3.01628001e-02],\n",
       "        [-4.90057357e-02, -4.63413373e-02, -4.11916003e-02,\n",
       "          2.12304294e-05,  3.87272574e-02, -4.88477610e-02,\n",
       "         -3.97264138e-02,  1.42695419e-02,  1.25419609e-02,\n",
       "         -3.01628001e-02],\n",
       "        [-4.90057357e-02, -4.63413373e-02, -4.11916003e-02,\n",
       "          2.12304294e-05,  3.87272574e-02, -4.88477610e-02,\n",
       "         -3.97264138e-02,  1.42695419e-02,  1.25419609e-02,\n",
       "         -3.01628001e-02],\n",
       "        [ 1.94309689e-02,  7.58297369e-03, -3.15109119e-02,\n",
       "         -3.18566784e-02, -9.42207873e-04,  6.81307167e-03,\n",
       "         -3.31900269e-03,  5.39936870e-03,  2.96030678e-02,\n",
       "         -1.57411210e-02],\n",
       "        [ 2.16025151e-02, -2.06428766e-02, -2.91742925e-02,\n",
       "          2.74310224e-02,  3.18608768e-02,  4.58712913e-02,\n",
       "          3.36183235e-03, -8.66725296e-03, -6.98002428e-03,\n",
       "          1.95375420e-02],\n",
       "        [-1.52543075e-02, -3.05327903e-02,  3.39717753e-02,\n",
       "          3.60419787e-02,  2.38339640e-02, -4.17043678e-02,\n",
       "         -1.93498731e-02,  4.24212702e-02, -1.48290507e-02,\n",
       "         -3.11021935e-02],\n",
       "        [ 4.23659794e-02,  4.44107167e-02,  3.58812697e-02,\n",
       "          2.12705620e-02, -4.26292419e-04,  3.85670997e-02,\n",
       "         -1.22835264e-02,  4.30339314e-02,  1.76819675e-02,\n",
       "          3.06964628e-02]],\n",
       "\n",
       "       [[-4.90057357e-02, -4.63413373e-02, -4.11916003e-02,\n",
       "          2.12304294e-05,  3.87272574e-02, -4.88477610e-02,\n",
       "         -3.97264138e-02,  1.42695419e-02,  1.25419609e-02,\n",
       "         -3.01628001e-02],\n",
       "        [-4.90057357e-02, -4.63413373e-02, -4.11916003e-02,\n",
       "          2.12304294e-05,  3.87272574e-02, -4.88477610e-02,\n",
       "         -3.97264138e-02,  1.42695419e-02,  1.25419609e-02,\n",
       "         -3.01628001e-02],\n",
       "        [-4.90057357e-02, -4.63413373e-02, -4.11916003e-02,\n",
       "          2.12304294e-05,  3.87272574e-02, -4.88477610e-02,\n",
       "         -3.97264138e-02,  1.42695419e-02,  1.25419609e-02,\n",
       "         -3.01628001e-02],\n",
       "        [-4.90057357e-02, -4.63413373e-02, -4.11916003e-02,\n",
       "          2.12304294e-05,  3.87272574e-02, -4.88477610e-02,\n",
       "         -3.97264138e-02,  1.42695419e-02,  1.25419609e-02,\n",
       "         -3.01628001e-02],\n",
       "        [ 1.94309689e-02,  7.58297369e-03, -3.15109119e-02,\n",
       "         -3.18566784e-02, -9.42207873e-04,  6.81307167e-03,\n",
       "         -3.31900269e-03,  5.39936870e-03,  2.96030678e-02,\n",
       "         -1.57411210e-02],\n",
       "        [ 2.16025151e-02, -2.06428766e-02, -2.91742925e-02,\n",
       "          2.74310224e-02,  3.18608768e-02,  4.58712913e-02,\n",
       "          3.36183235e-03, -8.66725296e-03, -6.98002428e-03,\n",
       "          1.95375420e-02],\n",
       "        [-1.52543075e-02, -3.05327903e-02,  3.39717753e-02,\n",
       "          3.60419787e-02,  2.38339640e-02, -4.17043678e-02,\n",
       "         -1.93498731e-02,  4.24212702e-02, -1.48290507e-02,\n",
       "         -3.11021935e-02],\n",
       "        [-2.17192899e-02, -1.68535598e-02,  1.67675130e-02,\n",
       "         -1.88393723e-02,  1.43680237e-02,  3.56235616e-02,\n",
       "          3.75279672e-02, -2.63477452e-02, -4.49096449e-02,\n",
       "         -4.23411615e-02]],\n",
       "\n",
       "       [[-4.90057357e-02, -4.63413373e-02, -4.11916003e-02,\n",
       "          2.12304294e-05,  3.87272574e-02, -4.88477610e-02,\n",
       "         -3.97264138e-02,  1.42695419e-02,  1.25419609e-02,\n",
       "         -3.01628001e-02],\n",
       "        [-4.90057357e-02, -4.63413373e-02, -4.11916003e-02,\n",
       "          2.12304294e-05,  3.87272574e-02, -4.88477610e-02,\n",
       "         -3.97264138e-02,  1.42695419e-02,  1.25419609e-02,\n",
       "         -3.01628001e-02],\n",
       "        [-4.90057357e-02, -4.63413373e-02, -4.11916003e-02,\n",
       "          2.12304294e-05,  3.87272574e-02, -4.88477610e-02,\n",
       "         -3.97264138e-02,  1.42695419e-02,  1.25419609e-02,\n",
       "         -3.01628001e-02],\n",
       "        [-4.90057357e-02, -4.63413373e-02, -4.11916003e-02,\n",
       "          2.12304294e-05,  3.87272574e-02, -4.88477610e-02,\n",
       "         -3.97264138e-02,  1.42695419e-02,  1.25419609e-02,\n",
       "         -3.01628001e-02],\n",
       "        [ 1.94309689e-02,  7.58297369e-03, -3.15109119e-02,\n",
       "         -3.18566784e-02, -9.42207873e-04,  6.81307167e-03,\n",
       "         -3.31900269e-03,  5.39936870e-03,  2.96030678e-02,\n",
       "         -1.57411210e-02],\n",
       "        [-8.44889879e-03, -6.46220520e-03, -4.14164439e-02,\n",
       "         -2.94268858e-02,  2.09734105e-02, -3.72753143e-02,\n",
       "         -2.13796385e-02, -2.69072130e-03, -1.61725394e-02,\n",
       "          5.97987324e-03],\n",
       "        [-1.52543075e-02, -3.05327903e-02,  3.39717753e-02,\n",
       "          3.60419787e-02,  2.38339640e-02, -4.17043678e-02,\n",
       "         -1.93498731e-02,  4.24212702e-02, -1.48290507e-02,\n",
       "         -3.11021935e-02],\n",
       "        [-4.74918857e-02, -2.41551157e-02,  3.23399939e-02,\n",
       "         -3.04538365e-02,  2.34850496e-03, -4.05476801e-02,\n",
       "         -2.45126616e-02,  4.74649779e-02, -4.48560826e-02,\n",
       "         -3.06880232e-02]],\n",
       "\n",
       "       [[-4.90057357e-02, -4.63413373e-02, -4.11916003e-02,\n",
       "          2.12304294e-05,  3.87272574e-02, -4.88477610e-02,\n",
       "         -3.97264138e-02,  1.42695419e-02,  1.25419609e-02,\n",
       "         -3.01628001e-02],\n",
       "        [-4.90057357e-02, -4.63413373e-02, -4.11916003e-02,\n",
       "          2.12304294e-05,  3.87272574e-02, -4.88477610e-02,\n",
       "         -3.97264138e-02,  1.42695419e-02,  1.25419609e-02,\n",
       "         -3.01628001e-02],\n",
       "        [-4.90057357e-02, -4.63413373e-02, -4.11916003e-02,\n",
       "          2.12304294e-05,  3.87272574e-02, -4.88477610e-02,\n",
       "         -3.97264138e-02,  1.42695419e-02,  1.25419609e-02,\n",
       "         -3.01628001e-02],\n",
       "        [ 1.70678757e-02,  4.33487035e-02,  1.76545493e-02,\n",
       "         -3.97390015e-02,  5.41199371e-03,  1.59511603e-02,\n",
       "         -1.22197866e-02, -1.41509175e-02, -4.40787561e-02,\n",
       "         -1.50945075e-02],\n",
       "        [-1.03733316e-02, -1.39655098e-02, -2.12535262e-02,\n",
       "          5.50293922e-03,  3.73722799e-02,  4.02048342e-02,\n",
       "          4.07939292e-02, -3.50007042e-02,  1.68510936e-02,\n",
       "         -4.90067713e-02],\n",
       "        [ 1.04405507e-02, -4.04782519e-02, -8.77274200e-03,\n",
       "         -1.99017879e-02, -4.60884832e-02, -3.24782357e-02,\n",
       "          9.06479359e-03,  1.30217932e-02, -3.33883613e-03,\n",
       "          2.48461701e-02],\n",
       "        [ 2.51419470e-03,  1.71673335e-02,  2.66704895e-02,\n",
       "          4.20784242e-02,  8.79019499e-03,  2.08936632e-04,\n",
       "         -4.49320674e-02, -6.09468669e-04, -2.21598037e-02,\n",
       "          9.70816612e-03],\n",
       "        [ 3.08272950e-02,  4.77958210e-02, -1.65733323e-02,\n",
       "          4.56514396e-02,  9.80907679e-03,  4.41996939e-02,\n",
       "         -4.68671322e-02, -1.42318010e-02,  8.26882198e-03,\n",
       "          3.16349603e-02]],\n",
       "\n",
       "       [[-4.90057357e-02, -4.63413373e-02, -4.11916003e-02,\n",
       "          2.12304294e-05,  3.87272574e-02, -4.88477610e-02,\n",
       "         -3.97264138e-02,  1.42695419e-02,  1.25419609e-02,\n",
       "         -3.01628001e-02],\n",
       "        [-4.90057357e-02, -4.63413373e-02, -4.11916003e-02,\n",
       "          2.12304294e-05,  3.87272574e-02, -4.88477610e-02,\n",
       "         -3.97264138e-02,  1.42695419e-02,  1.25419609e-02,\n",
       "         -3.01628001e-02],\n",
       "        [-4.90057357e-02, -4.63413373e-02, -4.11916003e-02,\n",
       "          2.12304294e-05,  3.87272574e-02, -4.88477610e-02,\n",
       "         -3.97264138e-02,  1.42695419e-02,  1.25419609e-02,\n",
       "         -3.01628001e-02],\n",
       "        [ 1.70678757e-02,  4.33487035e-02,  1.76545493e-02,\n",
       "         -3.97390015e-02,  5.41199371e-03,  1.59511603e-02,\n",
       "         -1.22197866e-02, -1.41509175e-02, -4.40787561e-02,\n",
       "         -1.50945075e-02],\n",
       "        [-1.03733316e-02, -1.39655098e-02, -2.12535262e-02,\n",
       "          5.50293922e-03,  3.73722799e-02,  4.02048342e-02,\n",
       "          4.07939292e-02, -3.50007042e-02,  1.68510936e-02,\n",
       "         -4.90067713e-02],\n",
       "        [ 1.04405507e-02, -4.04782519e-02, -8.77274200e-03,\n",
       "         -1.99017879e-02, -4.60884832e-02, -3.24782357e-02,\n",
       "          9.06479359e-03,  1.30217932e-02, -3.33883613e-03,\n",
       "          2.48461701e-02],\n",
       "        [ 2.51419470e-03,  1.71673335e-02,  2.66704895e-02,\n",
       "          4.20784242e-02,  8.79019499e-03,  2.08936632e-04,\n",
       "         -4.49320674e-02, -6.09468669e-04, -2.21598037e-02,\n",
       "          9.70816612e-03],\n",
       "        [-8.27437639e-03, -3.20273638e-03, -4.69717160e-02,\n",
       "         -9.53062624e-03,  2.03565247e-02,  4.89534177e-02,\n",
       "          4.34447564e-02,  4.20189761e-02, -3.79165635e-02,\n",
       "         -3.27339657e-02]],\n",
       "\n",
       "       [[-4.90057357e-02, -4.63413373e-02, -4.11916003e-02,\n",
       "          2.12304294e-05,  3.87272574e-02, -4.88477610e-02,\n",
       "         -3.97264138e-02,  1.42695419e-02,  1.25419609e-02,\n",
       "         -3.01628001e-02],\n",
       "        [-4.90057357e-02, -4.63413373e-02, -4.11916003e-02,\n",
       "          2.12304294e-05,  3.87272574e-02, -4.88477610e-02,\n",
       "         -3.97264138e-02,  1.42695419e-02,  1.25419609e-02,\n",
       "         -3.01628001e-02],\n",
       "        [-4.90057357e-02, -4.63413373e-02, -4.11916003e-02,\n",
       "          2.12304294e-05,  3.87272574e-02, -4.88477610e-02,\n",
       "         -3.97264138e-02,  1.42695419e-02,  1.25419609e-02,\n",
       "         -3.01628001e-02],\n",
       "        [ 1.12501867e-02,  2.88481750e-02,  3.52558978e-02,\n",
       "          1.44621171e-02, -4.58736904e-02, -4.33644056e-02,\n",
       "         -2.18292363e-02, -4.39017676e-02,  2.64893509e-02,\n",
       "         -2.05461737e-02],\n",
       "        [ 1.94309689e-02,  7.58297369e-03, -3.15109119e-02,\n",
       "         -3.18566784e-02, -9.42207873e-04,  6.81307167e-03,\n",
       "         -3.31900269e-03,  5.39936870e-03,  2.96030678e-02,\n",
       "         -1.57411210e-02],\n",
       "        [-4.16315719e-03, -1.77358389e-02, -4.38282266e-02,\n",
       "         -3.71829383e-02,  1.23122111e-02,  2.19071619e-02,\n",
       "          1.47604831e-02, -9.24754143e-03, -3.66640314e-02,\n",
       "         -4.68332060e-02],\n",
       "        [-1.52543075e-02, -3.05327903e-02,  3.39717753e-02,\n",
       "          3.60419787e-02,  2.38339640e-02, -4.17043678e-02,\n",
       "         -1.93498731e-02,  4.24212702e-02, -1.48290507e-02,\n",
       "         -3.11021935e-02],\n",
       "        [-6.88676909e-03,  4.88866009e-02, -3.47292423e-03,\n",
       "         -4.09544334e-02, -8.32402706e-03,  4.48251404e-02,\n",
       "         -8.87577608e-03, -1.72986276e-02,  2.49860324e-02,\n",
       "         -1.15166195e-02]],\n",
       "\n",
       "       [[-4.90057357e-02, -4.63413373e-02, -4.11916003e-02,\n",
       "          2.12304294e-05,  3.87272574e-02, -4.88477610e-02,\n",
       "         -3.97264138e-02,  1.42695419e-02,  1.25419609e-02,\n",
       "         -3.01628001e-02],\n",
       "        [-4.90057357e-02, -4.63413373e-02, -4.11916003e-02,\n",
       "          2.12304294e-05,  3.87272574e-02, -4.88477610e-02,\n",
       "         -3.97264138e-02,  1.42695419e-02,  1.25419609e-02,\n",
       "         -3.01628001e-02],\n",
       "        [-4.90057357e-02, -4.63413373e-02, -4.11916003e-02,\n",
       "          2.12304294e-05,  3.87272574e-02, -4.88477610e-02,\n",
       "         -3.97264138e-02,  1.42695419e-02,  1.25419609e-02,\n",
       "         -3.01628001e-02],\n",
       "        [-4.90057357e-02, -4.63413373e-02, -4.11916003e-02,\n",
       "          2.12304294e-05,  3.87272574e-02, -4.88477610e-02,\n",
       "         -3.97264138e-02,  1.42695419e-02,  1.25419609e-02,\n",
       "         -3.01628001e-02],\n",
       "        [ 2.75223963e-02, -4.49215434e-02, -4.52362075e-02,\n",
       "          2.13500001e-02, -7.55073875e-03, -5.85851818e-03,\n",
       "          3.85489315e-03, -3.31596956e-02,  1.66302808e-02,\n",
       "          4.93012108e-02],\n",
       "        [ 4.34542187e-02, -3.92058715e-02,  2.33041123e-03,\n",
       "         -7.23997504e-03,  2.19789185e-02, -2.49924511e-03,\n",
       "          3.33834030e-02,  8.26904923e-03,  2.43732668e-02,\n",
       "         -4.02139537e-02],\n",
       "        [ 4.32444476e-02,  2.53741629e-02,  2.98401378e-02,\n",
       "          4.28609736e-02,  4.36557867e-02,  2.33956911e-02,\n",
       "         -2.86582243e-02,  1.66118853e-02, -8.78645107e-03,\n",
       "          3.81968729e-02],\n",
       "        [ 2.51419470e-03,  1.71673335e-02,  2.66704895e-02,\n",
       "          4.20784242e-02,  8.79019499e-03,  2.08936632e-04,\n",
       "         -4.49320674e-02, -6.09468669e-04, -2.21598037e-02,\n",
       "          9.70816612e-03]]], dtype=float32)"
      ]
     },
     "execution_count": 17,
     "metadata": {},
     "output_type": "execute_result"
    }
   ],
   "source": [
    "model.predict(embedded_docs)"
   ]
  },
  {
   "cell_type": "code",
   "execution_count": 18,
   "id": "aba048bb",
   "metadata": {},
   "outputs": [
    {
     "name": "stdout",
     "output_type": "stream",
     "text": [
      "\u001b[1m1/1\u001b[0m \u001b[32m━━━━━━━━━━━━━━━━━━━━\u001b[0m\u001b[37m\u001b[0m \u001b[1m0s\u001b[0m 74ms/step\n"
     ]
    },
    {
     "data": {
      "text/plain": [
       "7"
      ]
     },
     "execution_count": 18,
     "metadata": {},
     "output_type": "execute_result"
    }
   ],
   "source": [
    "len(model.predict(embedded_docs))"
   ]
  },
  {
   "cell_type": "code",
   "execution_count": 21,
   "id": "14328537",
   "metadata": {},
   "outputs": [
    {
     "name": "stdout",
     "output_type": "stream",
     "text": [
      "\u001b[1m1/1\u001b[0m \u001b[32m━━━━━━━━━━━━━━━━━━━━\u001b[0m\u001b[37m\u001b[0m \u001b[1m0s\u001b[0m 90ms/step\n"
     ]
    },
    {
     "data": {
      "text/plain": [
       "array([[-4.9005736e-02, -4.6341337e-02, -4.1191600e-02,  2.1230429e-05,\n",
       "         3.8727257e-02, -4.8847761e-02, -3.9726414e-02,  1.4269542e-02,\n",
       "         1.2541961e-02, -3.0162800e-02],\n",
       "       [-4.9005736e-02, -4.6341337e-02, -4.1191600e-02,  2.1230429e-05,\n",
       "         3.8727257e-02, -4.8847761e-02, -3.9726414e-02,  1.4269542e-02,\n",
       "         1.2541961e-02, -3.0162800e-02],\n",
       "       [-4.9005736e-02, -4.6341337e-02, -4.1191600e-02,  2.1230429e-05,\n",
       "         3.8727257e-02, -4.8847761e-02, -3.9726414e-02,  1.4269542e-02,\n",
       "         1.2541961e-02, -3.0162800e-02],\n",
       "       [-4.9005736e-02, -4.6341337e-02, -4.1191600e-02,  2.1230429e-05,\n",
       "         3.8727257e-02, -4.8847761e-02, -3.9726414e-02,  1.4269542e-02,\n",
       "         1.2541961e-02, -3.0162800e-02],\n",
       "       [ 1.9430969e-02,  7.5829737e-03, -3.1510912e-02, -3.1856678e-02,\n",
       "        -9.4220787e-04,  6.8130717e-03, -3.3190027e-03,  5.3993687e-03,\n",
       "         2.9603068e-02, -1.5741121e-02],\n",
       "       [ 2.1602515e-02, -2.0642877e-02, -2.9174292e-02,  2.7431022e-02,\n",
       "         3.1860877e-02,  4.5871291e-02,  3.3618324e-03, -8.6672530e-03,\n",
       "        -6.9800243e-03,  1.9537542e-02],\n",
       "       [-1.5254308e-02, -3.0532790e-02,  3.3971775e-02,  3.6041979e-02,\n",
       "         2.3833964e-02, -4.1704368e-02, -1.9349873e-02,  4.2421270e-02,\n",
       "        -1.4829051e-02, -3.1102194e-02],\n",
       "       [ 4.2365979e-02,  4.4410717e-02,  3.5881270e-02,  2.1270562e-02,\n",
       "        -4.2629242e-04,  3.8567100e-02, -1.2283526e-02,  4.3033931e-02,\n",
       "         1.7681967e-02,  3.0696463e-02]], dtype=float32)"
      ]
     },
     "execution_count": 21,
     "metadata": {},
     "output_type": "execute_result"
    }
   ],
   "source": [
    "model.predict(embedded_docs)[0]"
   ]
  },
  {
   "cell_type": "code",
   "execution_count": 20,
   "id": "7453c721",
   "metadata": {},
   "outputs": [
    {
     "name": "stdout",
     "output_type": "stream",
     "text": [
      "\u001b[1m1/1\u001b[0m \u001b[32m━━━━━━━━━━━━━━━━━━━━\u001b[0m\u001b[37m\u001b[0m \u001b[1m0s\u001b[0m 70ms/step\n"
     ]
    },
    {
     "data": {
      "text/plain": [
       "8"
      ]
     },
     "execution_count": 20,
     "metadata": {},
     "output_type": "execute_result"
    }
   ],
   "source": [
    "len(model.predict(embedded_docs)[0])"
   ]
  },
  {
   "cell_type": "code",
   "execution_count": 22,
   "id": "a12de857",
   "metadata": {},
   "outputs": [
    {
     "name": "stdout",
     "output_type": "stream",
     "text": [
      "\u001b[1m1/1\u001b[0m \u001b[32m━━━━━━━━━━━━━━━━━━━━\u001b[0m\u001b[37m\u001b[0m \u001b[1m0s\u001b[0m 73ms/step\n"
     ]
    },
    {
     "data": {
      "text/plain": [
       "10"
      ]
     },
     "execution_count": 22,
     "metadata": {},
     "output_type": "execute_result"
    }
   ],
   "source": [
    "len(model.predict(embedded_docs)[0][0])"
   ]
  },
  {
   "cell_type": "code",
   "execution_count": 23,
   "id": "34de1c61",
   "metadata": {},
   "outputs": [
    {
     "data": {
      "text/plain": [
       "array([   0,    0,    0,    0,  522, 1597, 5453, 1077])"
      ]
     },
     "execution_count": 23,
     "metadata": {},
     "output_type": "execute_result"
    }
   ],
   "source": [
    "embedded_docs[0]"
   ]
  },
  {
   "cell_type": "code",
   "execution_count": 25,
   "id": "bf1788fb",
   "metadata": {},
   "outputs": [
    {
     "name": "stdout",
     "output_type": "stream",
     "text": [
      "\u001b[1m1/1\u001b[0m \u001b[32m━━━━━━━━━━━━━━━━━━━━\u001b[0m\u001b[37m\u001b[0m \u001b[1m0s\u001b[0m 66ms/step\n"
     ]
    },
    {
     "data": {
      "text/plain": [
       "array([[-4.9005736e-02, -4.6341337e-02, -4.1191600e-02,  2.1230429e-05,\n",
       "         3.8727257e-02, -4.8847761e-02, -3.9726414e-02,  1.4269542e-02,\n",
       "         1.2541961e-02, -3.0162800e-02],\n",
       "       [-4.9005736e-02, -4.6341337e-02, -4.1191600e-02,  2.1230429e-05,\n",
       "         3.8727257e-02, -4.8847761e-02, -3.9726414e-02,  1.4269542e-02,\n",
       "         1.2541961e-02, -3.0162800e-02],\n",
       "       [-4.9005736e-02, -4.6341337e-02, -4.1191600e-02,  2.1230429e-05,\n",
       "         3.8727257e-02, -4.8847761e-02, -3.9726414e-02,  1.4269542e-02,\n",
       "         1.2541961e-02, -3.0162800e-02],\n",
       "       [-4.9005736e-02, -4.6341337e-02, -4.1191600e-02,  2.1230429e-05,\n",
       "         3.8727257e-02, -4.8847761e-02, -3.9726414e-02,  1.4269542e-02,\n",
       "         1.2541961e-02, -3.0162800e-02],\n",
       "       [ 1.9430969e-02,  7.5829737e-03, -3.1510912e-02, -3.1856678e-02,\n",
       "        -9.4220787e-04,  6.8130717e-03, -3.3190027e-03,  5.3993687e-03,\n",
       "         2.9603068e-02, -1.5741121e-02],\n",
       "       [ 2.1602515e-02, -2.0642877e-02, -2.9174292e-02,  2.7431022e-02,\n",
       "         3.1860877e-02,  4.5871291e-02,  3.3618324e-03, -8.6672530e-03,\n",
       "        -6.9800243e-03,  1.9537542e-02],\n",
       "       [-1.5254308e-02, -3.0532790e-02,  3.3971775e-02,  3.6041979e-02,\n",
       "         2.3833964e-02, -4.1704368e-02, -1.9349873e-02,  4.2421270e-02,\n",
       "        -1.4829051e-02, -3.1102194e-02],\n",
       "       [ 4.2365979e-02,  4.4410717e-02,  3.5881270e-02,  2.1270562e-02,\n",
       "        -4.2629242e-04,  3.8567100e-02, -1.2283526e-02,  4.3033931e-02,\n",
       "         1.7681967e-02,  3.0696463e-02]], dtype=float32)"
      ]
     },
     "execution_count": 25,
     "metadata": {},
     "output_type": "execute_result"
    }
   ],
   "source": [
    "model.predict(embedded_docs)[0]"
   ]
  },
  {
   "cell_type": "code",
   "execution_count": null,
   "id": "72371d75",
   "metadata": {},
   "outputs": [],
   "source": []
  }
 ],
 "metadata": {
  "kernelspec": {
   "display_name": "Python 3",
   "language": "python",
   "name": "python3"
  },
  "language_info": {
   "codemirror_mode": {
    "name": "ipython",
    "version": 3
   },
   "file_extension": ".py",
   "mimetype": "text/x-python",
   "name": "python",
   "nbconvert_exporter": "python",
   "pygments_lexer": "ipython3",
   "version": "3.12.0"
  }
 },
 "nbformat": 4,
 "nbformat_minor": 5
}
