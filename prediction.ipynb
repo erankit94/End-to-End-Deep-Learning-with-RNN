{
 "cells": [
  {
   "cell_type": "code",
   "execution_count": 1,
   "id": "e2ecbffd",
   "metadata": {},
   "outputs": [],
   "source": [
    "import numpy as np\n",
    "import tensorflow as tf\n",
    "from tensorflow.keras.datasets import imdb\n",
    "from tensorflow.keras.preprocessing import sequence\n",
    "from tensorflow.keras.models import Sequential\n",
    "from tensorflow.keras.layers import Embedding, SimpleRNN, Dense"
   ]
  },
  {
   "cell_type": "code",
   "execution_count": 2,
   "id": "bfbcec04",
   "metadata": {},
   "outputs": [],
   "source": [
    "word_index = imdb.get_word_index()\n",
    "rev_dict = {value:key for key, value in word_index.items()}\n"
   ]
  },
  {
   "cell_type": "code",
   "execution_count": 3,
   "id": "bbaba20d",
   "metadata": {},
   "outputs": [
    {
     "name": "stderr",
     "output_type": "stream",
     "text": [
      "WARNING:absl:Compiled the loaded model, but the compiled metrics have yet to be built. `model.compile_metrics` will be empty until you train or evaluate the model.\n"
     ]
    },
    {
     "data": {
      "text/html": [
       "<pre style=\"white-space:pre;overflow-x:auto;line-height:normal;font-family:Menlo,'DejaVu Sans Mono',consolas,'Courier New',monospace\"><span style=\"font-weight: bold\">Model: \"sequential\"</span>\n",
       "</pre>\n"
      ],
      "text/plain": [
       "\u001b[1mModel: \"sequential\"\u001b[0m\n"
      ]
     },
     "metadata": {},
     "output_type": "display_data"
    },
    {
     "data": {
      "text/html": [
       "<pre style=\"white-space:pre;overflow-x:auto;line-height:normal;font-family:Menlo,'DejaVu Sans Mono',consolas,'Courier New',monospace\">┏━━━━━━━━━━━━━━━━━━━━━━━━━━━━━━━━━┳━━━━━━━━━━━━━━━━━━━━━━━━┳━━━━━━━━━━━━━━━┓\n",
       "┃<span style=\"font-weight: bold\"> Layer (type)                    </span>┃<span style=\"font-weight: bold\"> Output Shape           </span>┃<span style=\"font-weight: bold\">       Param # </span>┃\n",
       "┡━━━━━━━━━━━━━━━━━━━━━━━━━━━━━━━━━╇━━━━━━━━━━━━━━━━━━━━━━━━╇━━━━━━━━━━━━━━━┩\n",
       "│ embedding (<span style=\"color: #0087ff; text-decoration-color: #0087ff\">Embedding</span>)           │ (<span style=\"color: #00af00; text-decoration-color: #00af00\">32</span>, <span style=\"color: #00af00; text-decoration-color: #00af00\">500</span>, <span style=\"color: #00af00; text-decoration-color: #00af00\">128</span>)         │     <span style=\"color: #00af00; text-decoration-color: #00af00\">1,280,000</span> │\n",
       "├─────────────────────────────────┼────────────────────────┼───────────────┤\n",
       "│ simple_rnn (<span style=\"color: #0087ff; text-decoration-color: #0087ff\">SimpleRNN</span>)          │ (<span style=\"color: #00af00; text-decoration-color: #00af00\">32</span>, <span style=\"color: #00af00; text-decoration-color: #00af00\">128</span>)              │        <span style=\"color: #00af00; text-decoration-color: #00af00\">32,896</span> │\n",
       "├─────────────────────────────────┼────────────────────────┼───────────────┤\n",
       "│ dense (<span style=\"color: #0087ff; text-decoration-color: #0087ff\">Dense</span>)                   │ (<span style=\"color: #00af00; text-decoration-color: #00af00\">32</span>, <span style=\"color: #00af00; text-decoration-color: #00af00\">1</span>)                │           <span style=\"color: #00af00; text-decoration-color: #00af00\">129</span> │\n",
       "└─────────────────────────────────┴────────────────────────┴───────────────┘\n",
       "</pre>\n"
      ],
      "text/plain": [
       "┏━━━━━━━━━━━━━━━━━━━━━━━━━━━━━━━━━┳━━━━━━━━━━━━━━━━━━━━━━━━┳━━━━━━━━━━━━━━━┓\n",
       "┃\u001b[1m \u001b[0m\u001b[1mLayer (type)                   \u001b[0m\u001b[1m \u001b[0m┃\u001b[1m \u001b[0m\u001b[1mOutput Shape          \u001b[0m\u001b[1m \u001b[0m┃\u001b[1m \u001b[0m\u001b[1m      Param #\u001b[0m\u001b[1m \u001b[0m┃\n",
       "┡━━━━━━━━━━━━━━━━━━━━━━━━━━━━━━━━━╇━━━━━━━━━━━━━━━━━━━━━━━━╇━━━━━━━━━━━━━━━┩\n",
       "│ embedding (\u001b[38;5;33mEmbedding\u001b[0m)           │ (\u001b[38;5;34m32\u001b[0m, \u001b[38;5;34m500\u001b[0m, \u001b[38;5;34m128\u001b[0m)         │     \u001b[38;5;34m1,280,000\u001b[0m │\n",
       "├─────────────────────────────────┼────────────────────────┼───────────────┤\n",
       "│ simple_rnn (\u001b[38;5;33mSimpleRNN\u001b[0m)          │ (\u001b[38;5;34m32\u001b[0m, \u001b[38;5;34m128\u001b[0m)              │        \u001b[38;5;34m32,896\u001b[0m │\n",
       "├─────────────────────────────────┼────────────────────────┼───────────────┤\n",
       "│ dense (\u001b[38;5;33mDense\u001b[0m)                   │ (\u001b[38;5;34m32\u001b[0m, \u001b[38;5;34m1\u001b[0m)                │           \u001b[38;5;34m129\u001b[0m │\n",
       "└─────────────────────────────────┴────────────────────────┴───────────────┘\n"
      ]
     },
     "metadata": {},
     "output_type": "display_data"
    },
    {
     "data": {
      "text/html": [
       "<pre style=\"white-space:pre;overflow-x:auto;line-height:normal;font-family:Menlo,'DejaVu Sans Mono',consolas,'Courier New',monospace\"><span style=\"font-weight: bold\"> Total params: </span><span style=\"color: #00af00; text-decoration-color: #00af00\">1,313,027</span> (5.01 MB)\n",
       "</pre>\n"
      ],
      "text/plain": [
       "\u001b[1m Total params: \u001b[0m\u001b[38;5;34m1,313,027\u001b[0m (5.01 MB)\n"
      ]
     },
     "metadata": {},
     "output_type": "display_data"
    },
    {
     "data": {
      "text/html": [
       "<pre style=\"white-space:pre;overflow-x:auto;line-height:normal;font-family:Menlo,'DejaVu Sans Mono',consolas,'Courier New',monospace\"><span style=\"font-weight: bold\"> Trainable params: </span><span style=\"color: #00af00; text-decoration-color: #00af00\">1,313,025</span> (5.01 MB)\n",
       "</pre>\n"
      ],
      "text/plain": [
       "\u001b[1m Trainable params: \u001b[0m\u001b[38;5;34m1,313,025\u001b[0m (5.01 MB)\n"
      ]
     },
     "metadata": {},
     "output_type": "display_data"
    },
    {
     "data": {
      "text/html": [
       "<pre style=\"white-space:pre;overflow-x:auto;line-height:normal;font-family:Menlo,'DejaVu Sans Mono',consolas,'Courier New',monospace\"><span style=\"font-weight: bold\"> Non-trainable params: </span><span style=\"color: #00af00; text-decoration-color: #00af00\">0</span> (0.00 B)\n",
       "</pre>\n"
      ],
      "text/plain": [
       "\u001b[1m Non-trainable params: \u001b[0m\u001b[38;5;34m0\u001b[0m (0.00 B)\n"
      ]
     },
     "metadata": {},
     "output_type": "display_data"
    },
    {
     "data": {
      "text/html": [
       "<pre style=\"white-space:pre;overflow-x:auto;line-height:normal;font-family:Menlo,'DejaVu Sans Mono',consolas,'Courier New',monospace\"><span style=\"font-weight: bold\"> Optimizer params: </span><span style=\"color: #00af00; text-decoration-color: #00af00\">2</span> (12.00 B)\n",
       "</pre>\n"
      ],
      "text/plain": [
       "\u001b[1m Optimizer params: \u001b[0m\u001b[38;5;34m2\u001b[0m (12.00 B)\n"
      ]
     },
     "metadata": {},
     "output_type": "display_data"
    }
   ],
   "source": [
    "# Load pre-trained model with RelU activation\n",
    "from tensorflow.keras.models import load_model\n",
    "model = load_model('simple_rnn_imdb.h5')\n",
    "model.summary()"
   ]
  },
  {
   "cell_type": "code",
   "execution_count": 5,
   "id": "3643cc18",
   "metadata": {},
   "outputs": [
    {
     "data": {
      "text/plain": [
       "[array([[ 0.01458194,  0.04287926,  0.21960242, ..., -0.11083278,\n",
       "         -0.20256758,  0.14262319],\n",
       "        [ 0.01413503, -0.01939845, -0.04827302, ...,  0.01452581,\n",
       "         -0.04616365,  0.0152093 ],\n",
       "        [-0.03287408,  0.01760963,  0.0723184 , ...,  0.03980428,\n",
       "          0.01947013,  0.03659569],\n",
       "        ...,\n",
       "        [ 0.16744038, -0.06084277,  0.08309146, ..., -0.09737977,\n",
       "          0.02422051, -0.09801959],\n",
       "        [-0.06239394,  0.05266739, -0.03311738, ...,  0.01176158,\n",
       "         -0.07827064, -0.04687064],\n",
       "        [ 0.11502   , -0.12111842, -0.02970214, ..., -0.08380485,\n",
       "         -0.128253  ,  0.06616722]], dtype=float32),\n",
       " array([[ 0.06450044, -0.14199702, -0.03216559, ..., -0.01063111,\n",
       "          0.11676485, -0.14324565],\n",
       "        [-0.16748567,  0.11110117,  0.08323901, ..., -0.10104796,\n",
       "         -0.12848508,  0.1519612 ],\n",
       "        [ 0.06829254,  0.15876158,  0.00439525, ..., -0.00273876,\n",
       "          0.15781035, -0.01324838],\n",
       "        ...,\n",
       "        [-0.01754032, -0.15314864,  0.06715595, ...,  0.11963932,\n",
       "          0.07867263,  0.08519587],\n",
       "        [-0.05732152, -0.02848396, -0.11766119, ..., -0.10529326,\n",
       "          0.06312254,  0.14328246],\n",
       "        [-0.03300215, -0.05219773, -0.10508416, ..., -0.07622576,\n",
       "         -0.03361887,  0.1081638 ]], dtype=float32),\n",
       " array([[-0.12327737, -0.02541727,  0.00987285, ..., -0.03261761,\n",
       "         -0.01462134,  0.01666578],\n",
       "        [-0.05947053, -0.01897002,  0.12764181, ..., -0.07837267,\n",
       "          0.00798846,  0.11077428],\n",
       "        [-0.01686886, -0.13941567,  0.0037889 , ..., -0.00150998,\n",
       "         -0.04947908,  0.279959  ],\n",
       "        ...,\n",
       "        [ 0.00151717, -0.06724352, -0.0352767 , ..., -0.06388952,\n",
       "          0.00848952, -0.13201888],\n",
       "        [-0.09775461, -0.05359208, -0.03788461, ...,  0.11544167,\n",
       "          0.03111727,  0.07830796],\n",
       "        [ 0.00476997,  0.01716742, -0.06392245, ...,  0.05583727,\n",
       "         -0.08401114, -0.14852078]], dtype=float32),\n",
       " array([ 3.66872316e-03, -9.66940727e-03, -4.34951531e-03,  1.05943764e-02,\n",
       "        -2.42013764e-02,  2.14630794e-02,  1.11534521e-02, -7.43745477e-04,\n",
       "         1.29587324e-02, -1.64637044e-02,  1.66438322e-03, -6.42138254e-03,\n",
       "         3.38288816e-03,  1.77400503e-02,  1.17336540e-02,  4.79744107e-04,\n",
       "        -3.62502364e-03,  1.72687247e-02,  1.60405803e-02, -1.77118671e-03,\n",
       "         4.62864555e-04, -1.05715469e-02, -9.32774227e-03, -2.09675916e-02,\n",
       "         2.27680504e-02,  2.21268144e-02,  1.22609315e-02,  2.88464054e-02,\n",
       "         3.18318489e-03, -1.85374438e-03, -1.05517672e-03, -1.05971964e-02,\n",
       "         5.37315942e-03, -1.82680581e-02, -1.20910350e-02, -1.97559060e-03,\n",
       "         2.29206812e-02, -1.27341114e-02, -1.60295945e-02, -1.23920012e-02,\n",
       "        -1.59749053e-02,  8.55210330e-03,  2.32351236e-02,  2.76635168e-04,\n",
       "         1.65015366e-02,  2.34394353e-02,  9.30673257e-03, -8.51621851e-03,\n",
       "         1.76006742e-02,  2.54479758e-02, -2.78535131e-02,  5.79986721e-03,\n",
       "         1.72197148e-02,  1.27016325e-02,  2.13692710e-02, -1.29778022e-02,\n",
       "         1.56608820e-02, -7.39718042e-03,  7.29190710e-04, -2.27168500e-02,\n",
       "        -1.11817718e-02, -6.16850844e-03,  9.93739814e-04,  3.31435143e-03,\n",
       "         7.73158064e-03, -1.08726707e-03,  1.28534983e-03,  1.20047554e-02,\n",
       "        -1.64523423e-02, -1.53690588e-03, -2.78775245e-02, -1.79923270e-02,\n",
       "         1.40159642e-02, -2.00083051e-02, -8.09134357e-03, -1.64652634e-02,\n",
       "         1.06467400e-02, -8.53129011e-03, -5.02139237e-03, -1.23428972e-02,\n",
       "        -1.23805273e-02, -1.16635012e-02, -9.31610167e-03, -1.08664921e-02,\n",
       "        -5.60226943e-03, -7.15229614e-03,  2.70606345e-03,  1.17756212e-02,\n",
       "        -1.05786398e-02, -5.47557184e-03,  4.64482186e-03, -3.46452440e-03,\n",
       "         1.12978164e-02,  1.91018675e-02, -1.36970505e-02, -2.74218060e-03,\n",
       "         3.16278567e-03,  2.32519559e-03,  1.89906508e-02,  3.72201321e-03,\n",
       "        -1.55803822e-02,  4.52643912e-03, -3.66109307e-03, -1.27934851e-02,\n",
       "         5.60478016e-04,  2.31127217e-02,  1.78890042e-02, -1.45409061e-02,\n",
       "        -9.49855521e-03,  2.13315487e-02, -2.03408320e-02, -3.61036584e-02,\n",
       "         1.06258607e-02,  8.10460187e-03,  1.63141321e-02,  2.89217066e-02,\n",
       "        -8.78715888e-03, -9.22511704e-03, -5.89007465e-03, -1.05710980e-02,\n",
       "        -5.60850790e-03, -4.48607281e-03,  7.19256513e-03, -2.49198154e-02,\n",
       "         5.09424414e-03, -6.90454384e-03,  9.77397794e-05, -1.32164620e-02],\n",
       "       dtype=float32),\n",
       " array([[-1.94321461e-02],\n",
       "        [ 1.70095429e-01],\n",
       "        [-1.83192313e-01],\n",
       "        [-1.23393759e-01],\n",
       "        [-3.25864032e-02],\n",
       "        [ 1.00009061e-01],\n",
       "        [ 1.82549655e-02],\n",
       "        [-1.22438341e-01],\n",
       "        [ 3.08113657e-02],\n",
       "        [-4.69357334e-02],\n",
       "        [-1.09431791e+00],\n",
       "        [-2.79507399e-01],\n",
       "        [-2.63091743e-01],\n",
       "        [-5.95719993e-01],\n",
       "        [-7.66363069e-02],\n",
       "        [ 1.27403870e-01],\n",
       "        [-5.53163111e-01],\n",
       "        [ 1.79652274e-01],\n",
       "        [-3.93691175e-02],\n",
       "        [-4.42680195e-02],\n",
       "        [-2.15206712e-01],\n",
       "        [ 6.79381266e-02],\n",
       "        [ 2.17814326e-01],\n",
       "        [-1.43382072e+00],\n",
       "        [ 1.73370436e-01],\n",
       "        [-4.36797999e-02],\n",
       "        [ 1.63376689e-01],\n",
       "        [ 1.73724771e-01],\n",
       "        [-3.21668782e-03],\n",
       "        [-1.71497762e-01],\n",
       "        [ 2.59447169e+00],\n",
       "        [-6.70047104e-02],\n",
       "        [-2.35633433e-01],\n",
       "        [-5.15277565e-01],\n",
       "        [-2.39741772e-01],\n",
       "        [ 1.44408807e-01],\n",
       "        [ 8.83144662e-02],\n",
       "        [-1.37652531e-01],\n",
       "        [-1.86809167e-01],\n",
       "        [-9.39154327e-02],\n",
       "        [ 4.22170162e-02],\n",
       "        [-1.21466756e-01],\n",
       "        [-2.48546287e-01],\n",
       "        [-1.91303924e-01],\n",
       "        [-7.85128549e-02],\n",
       "        [ 1.31608769e-01],\n",
       "        [ 1.87499750e+00],\n",
       "        [-5.14127240e-02],\n",
       "        [ 1.10721037e-01],\n",
       "        [ 1.53675482e-01],\n",
       "        [ 1.25503302e-01],\n",
       "        [-8.41796249e-02],\n",
       "        [-7.02194348e-02],\n",
       "        [ 1.06579196e-02],\n",
       "        [ 4.97978516e-02],\n",
       "        [ 5.78626692e-02],\n",
       "        [-9.59017351e-02],\n",
       "        [-1.66141450e-01],\n",
       "        [ 7.30226859e-02],\n",
       "        [-2.73612142e-01],\n",
       "        [ 9.91576388e-02],\n",
       "        [-3.33469331e-01],\n",
       "        [-6.75966814e-02],\n",
       "        [-1.19614094e-01],\n",
       "        [-4.42427546e-01],\n",
       "        [ 1.74623385e-01],\n",
       "        [-3.82663086e-02],\n",
       "        [-6.32609129e-02],\n",
       "        [-9.75984335e-01],\n",
       "        [-2.04429999e-01],\n",
       "        [-5.54768834e-03],\n",
       "        [-1.29906759e-01],\n",
       "        [ 6.65693209e-02],\n",
       "        [-1.14857912e+00],\n",
       "        [-9.89478454e-02],\n",
       "        [ 2.33234726e-02],\n",
       "        [ 1.81850001e-01],\n",
       "        [-1.54515207e-01],\n",
       "        [-1.99741289e-01],\n",
       "        [-5.07291436e-01],\n",
       "        [-1.92283869e-01],\n",
       "        [-2.96148479e-01],\n",
       "        [-1.57920575e+00],\n",
       "        [ 1.03301220e-02],\n",
       "        [ 3.62659395e-02],\n",
       "        [-6.14013001e-02],\n",
       "        [-1.70951366e-01],\n",
       "        [ 1.17552765e-01],\n",
       "        [-1.11078286e+00],\n",
       "        [ 9.77283716e-02],\n",
       "        [-6.60624921e-01],\n",
       "        [ 1.24822214e-01],\n",
       "        [-3.63918431e-02],\n",
       "        [ 7.95215517e-02],\n",
       "        [-3.20776664e-02],\n",
       "        [-1.51663631e-01],\n",
       "        [ 6.49112836e-02],\n",
       "        [-1.25364989e-01],\n",
       "        [-1.23880424e-01],\n",
       "        [-2.20728591e-01],\n",
       "        [-4.87609170e-02],\n",
       "        [-2.67667341e+00],\n",
       "        [ 2.29185611e-01],\n",
       "        [ 1.55057266e-01],\n",
       "        [-1.62022874e-01],\n",
       "        [ 1.75766245e-01],\n",
       "        [ 8.68063420e-02],\n",
       "        [ 1.28324982e-03],\n",
       "        [-1.33957313e-02],\n",
       "        [ 8.02631006e-02],\n",
       "        [-2.01416075e-01],\n",
       "        [-1.82413086e-02],\n",
       "        [ 1.89832628e-01],\n",
       "        [-3.94985154e-02],\n",
       "        [-9.86094493e-03],\n",
       "        [ 2.67384611e-02],\n",
       "        [-1.63815439e-01],\n",
       "        [ 7.83078894e-02],\n",
       "        [-1.28957927e-01],\n",
       "        [ 6.82418467e-03],\n",
       "        [-2.84875352e-02],\n",
       "        [-4.20205109e-02],\n",
       "        [-1.91954583e-01],\n",
       "        [ 2.92648990e-02],\n",
       "        [-1.51144983e-02],\n",
       "        [-2.34476089e+00],\n",
       "        [-2.08926156e-01],\n",
       "        [ 1.95946991e-01]], dtype=float32),\n",
       " array([-1.6634195], dtype=float32)]"
      ]
     },
     "execution_count": 5,
     "metadata": {},
     "output_type": "execute_result"
    }
   ],
   "source": [
    "model.get_weights()"
   ]
  },
  {
   "cell_type": "code",
   "execution_count": 6,
   "id": "d5e62117",
   "metadata": {},
   "outputs": [],
   "source": [
    "# Step 2: Helper Functions\n",
    "# Function to decode reviews\n",
    "def decode_review(encoded_review):\n",
    "    return ' '.join([rev_dict.get(i - 3, '?') for i in encoded_review])\n",
    "\n",
    "# Function to preprocess user input\n",
    "def preprocess_text(text):\n",
    "    words = text.lower().split()\n",
    "    encoded_review = [word_index.get(word, 2) + 3 for word in words]\n",
    "    padded_review = sequence.pad_sequences([encoded_review], maxlen=500)\n",
    "    return padded_review"
   ]
  },
  {
   "cell_type": "code",
   "execution_count": 8,
   "id": "655a0601",
   "metadata": {},
   "outputs": [],
   "source": [
    "### Prediction  function\n",
    "\n",
    "def predict_sentiment(review):\n",
    "    preprocessed_input=preprocess_text(review)\n",
    "\n",
    "    prediction=model.predict(preprocessed_input)\n",
    "\n",
    "    sentiment = 'Positive' if prediction[0][0] > 0.5 else 'Negative'\n",
    "    \n",
    "    return sentiment, prediction[0][0]\n",
    "\n"
   ]
  },
  {
   "cell_type": "code",
   "execution_count": 9,
   "id": "039b1fa0",
   "metadata": {},
   "outputs": [
    {
     "name": "stdout",
     "output_type": "stream",
     "text": [
      "\u001b[1m1/1\u001b[0m \u001b[32m━━━━━━━━━━━━━━━━━━━━\u001b[0m\u001b[37m\u001b[0m \u001b[1m0s\u001b[0m 411ms/step\n",
      "Review: This movie was fantastic! The acting was great and the plot was thrilling.\n",
      "Sentiment: Positive\n",
      "Prediction Score: 0.9999679923057556\n"
     ]
    }
   ],
   "source": [
    "# Step 4: User Input and Prediction\n",
    "# Example review for prediction\n",
    "example_review = \"This movie was fantastic! The acting was great and the plot was thrilling.\"\n",
    "\n",
    "sentiment,score=predict_sentiment(example_review)\n",
    "\n",
    "print(f'Review: {example_review}')\n",
    "print(f'Sentiment: {sentiment}')\n",
    "print(f'Prediction Score: {score}')"
   ]
  },
  {
   "cell_type": "code",
   "execution_count": null,
   "id": "230adb45",
   "metadata": {},
   "outputs": [],
   "source": []
  }
 ],
 "metadata": {
  "kernelspec": {
   "display_name": "Python 3",
   "language": "python",
   "name": "python3"
  },
  "language_info": {
   "codemirror_mode": {
    "name": "ipython",
    "version": 3
   },
   "file_extension": ".py",
   "mimetype": "text/x-python",
   "name": "python",
   "nbconvert_exporter": "python",
   "pygments_lexer": "ipython3",
   "version": "3.12.0"
  }
 },
 "nbformat": 4,
 "nbformat_minor": 5
}
